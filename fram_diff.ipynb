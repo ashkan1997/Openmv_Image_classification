{
 "cells": [
  {
   "cell_type": "code",
   "execution_count": 1,
   "metadata": {},
   "outputs": [],
   "source": [
    "import cv2\n",
    "import numpy as np\n",
    "import tensorflow as tf\n"
   ]
  },
  {
   "attachments": {},
   "cell_type": "markdown",
   "metadata": {},
   "source": [
    "# Load the object classification model"
   ]
  },
  {
   "cell_type": "code",
   "execution_count": null,
   "metadata": {},
   "outputs": [],
   "source": [
    "\n",
    "\n",
    "model = tf.keras.models.load_model('class.h5')"
   ]
  },
  {
   "cell_type": "code",
   "execution_count": null,
   "metadata": {},
   "outputs": [],
   "source": [
    "\n",
    "# Create a background subtractor using the Mixture of Gaussians method\n",
    "fgbg = cv2.createBackgroundSubtractorMOG2()\n",
    "\n",
    "# Initialize the camera\n",
    "cap = cv2.VideoCapture(0)\n",
    "\n",
    "while True:\n",
    "    # Capture a frame from the camera\n",
    "    ret, frame = cap.read()\n",
    "    \n",
    "    # Apply the background subtractor to detect movement\n",
    "    fgmask = fgbg.apply(frame)\n",
    "    \n",
    "    # Threshold the difference image to create a binary image\n",
    "    thresh = cv2.threshold(fgmask, 127, 255, cv2.THRESH_BINARY)[1]\n",
    "    \n",
    "    # Find contours in the binary image\n",
    "    contours, hierarchy = cv2.findContours(thresh, cv2.RETR_EXTERNAL, cv2.CHAIN_APPROX_SIMPLE)\n",
    "    \n",
    "    # Loop over the contours\n",
    "    for contour in contours:\n",
    "        # Calculate the contour area\n",
    "        area = cv2.contourArea(contour)\n",
    "        \n",
    "        # Ignore contours that are too small\n",
    "        if area < 500:\n",
    "            continue\n",
    "        \n",
    "        # Draw a bounding box around the contour\n",
    "        x, y, w, h = cv2.boundingRect(contour)\n",
    "        cv2.rectangle(frame, (x, y), (x + w, y + h), (0, 255, 0), 2)\n",
    "        \n",
    "        # Extract the ROI (region of interest) from the frame\n",
    "        roi = frame[y:y+h, x:x+w]\n",
    "        \n",
    "        # Preprocess the ROI for classification\n",
    "        # (resize, convert to grayscale, normalize pixel values, etc.)\n",
    "        roi = cv2.cvtColor(roi, cv2.COLOR_BGR2GRAY)\n",
    "        roi = cv2.resize(roi, (64, 64))\n",
    "        roi = roi / 255.0\n",
    "        roi = np.expand_dims(roi, axis=-1)\n",
    "        roi = np.expand_dims(roi, axis=0)\n",
    "        \n",
    "        # Classify the ROI using the object classification model\n",
    "        predictions = model.predict(roi)\n",
    "        class_id = np.argmax(predictions)\n",
    "        \n",
    "        # Print the predicted class label\n",
    "        print(\"Predicted class label: {}\".format(class_id))\n",
    "    \n",
    "    # Show the frame\n",
    "    cv2.imshow('frame', frame)\n",
    "    \n",
    "    # Wait for a key press\n",
    "    key = cv2.waitKey(1)\n",
    "    \n",
    "    # If the 'q' key is pressed, break the loop\n",
    "    if key == ord('q'):\n",
    "        break\n",
    "\n",
    "# Release the camera and close all windows\n",
    "cap.release()\n",
    "cv2.destroyAllWindows()\n"
   ]
  }
 ],
 "metadata": {
  "kernelspec": {
   "display_name": "Py3",
   "language": "python",
   "name": "python3"
  },
  "language_info": {
   "codemirror_mode": {
    "name": "ipython",
    "version": 3
   },
   "file_extension": ".py",
   "mimetype": "text/x-python",
   "name": "python",
   "nbconvert_exporter": "python",
   "pygments_lexer": "ipython3",
   "version": "3.10.8"
  },
  "orig_nbformat": 4
 },
 "nbformat": 4,
 "nbformat_minor": 2
}
